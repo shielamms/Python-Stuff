{
 "cells": [
  {
   "cell_type": "markdown",
   "metadata": {
    "colab_type": "text",
    "id": "view-in-github"
   },
   "source": [
    "<a href=\"https://colab.research.google.com/github/shielamms/Python-Stuff/blob/master/Search_Algorithms_in_Python.ipynb\" target=\"_parent\"><img src=\"https://colab.research.google.com/assets/colab-badge.svg\" alt=\"Open In Colab\"/></a>"
   ]
  },
  {
   "cell_type": "markdown",
   "metadata": {
    "id": "NcHPmG4Q7eMr"
   },
   "source": [
    "### Membership Operators"
   ]
  },
  {
   "cell_type": "code",
   "execution_count": null,
   "metadata": {
    "colab": {
     "base_uri": "https://localhost:8080/",
     "height": 35
    },
    "id": "4zkh3km57gq1",
    "outputId": "a0fdaf5f-0662-4555-bfb6-d42f4d14561d"
   },
   "outputs": [
    {
     "data": {
      "text/plain": [
       "True"
      ]
     },
     "execution_count": 1,
     "metadata": {
      "tags": []
     },
     "output_type": "execute_result"
    }
   ],
   "source": [
    "animals = ['cat', 'dog', 'sheep', 'goat']\n",
    "\n",
    "'goat' in animals"
   ]
  },
  {
   "cell_type": "markdown",
   "metadata": {
    "id": "yWZm_UCO7quK"
   },
   "source": [
    "### Linear Search"
   ]
  },
  {
   "cell_type": "code",
   "execution_count": null,
   "metadata": {
    "id": "aXLmh_qB7oyT"
   },
   "outputs": [],
   "source": [
    "def linearSearch(arr, element):\n",
    "  for i in range(len(arr)):\n",
    "    if arr[i] == element:\n",
    "      return i\n",
    "  \n",
    "  return -1"
   ]
  },
  {
   "cell_type": "code",
   "execution_count": null,
   "metadata": {
    "colab": {
     "base_uri": "https://localhost:8080/",
     "height": 35
    },
    "id": "THCK6Z2x8Atk",
    "outputId": "101c51c2-edb2-42c8-fda1-406aa0e8a5c7"
   },
   "outputs": [
    {
     "data": {
      "text/plain": [
       "5"
      ]
     },
     "execution_count": 6,
     "metadata": {
      "tags": []
     },
     "output_type": "execute_result"
    }
   ],
   "source": [
    "arr = [1,3,5,7,9,11,13]\n",
    "\n",
    "linearSearch(arr, 11)"
   ]
  },
  {
   "cell_type": "markdown",
   "metadata": {
    "id": "XZfOomf38REl"
   },
   "source": [
    "### Binary Search"
   ]
  },
  {
   "cell_type": "markdown",
   "metadata": {
    "id": "9HEs5te28VZX"
   },
   "source": [
    "Binary Search performs divide-and-conquer. It requires the array to be sorted before the search is performed."
   ]
  },
  {
   "cell_type": "markdown",
   "metadata": {
    "id": "hrKoyC7X8iWJ"
   },
   "source": [
    "Assume val is the value we are searching for:\n",
    "- If the middle mid of array == val, then return the index of mid\n",
    "- If val > mid, then look in the right side of mid. Discard the left side.\n",
    "- If val < mid, then look in the left side of mid. Discard the right side.\n",
    "- Recursively or iteratively follow the same steps until val is found or until there are no more elements to search"
   ]
  },
  {
   "cell_type": "code",
   "execution_count": null,
   "metadata": {
    "id": "InclqYhQ8Lfr"
   },
   "outputs": [],
   "source": [
    "def binarySearch(arr, val):\n",
    "  first = 0\n",
    "  last = len(arr) - 1\n",
    "  index = -1\n",
    "\n",
    "  while (first <= last) and (index == -1):\n",
    "    mid = (first + last) // 2\n",
    "\n",
    "    if arr[mid] == val:\n",
    "      index = mid\n",
    "    else:\n",
    "      if val < arr[mid]:\n",
    "        last = mid - 1\n",
    "      else:\n",
    "        first = mid + 1\n",
    "  \n",
    "  return index"
   ]
  },
  {
   "cell_type": "code",
   "execution_count": null,
   "metadata": {
    "colab": {
     "base_uri": "https://localhost:8080/",
     "height": 35
    },
    "id": "CYD7-wk0-KJJ",
    "outputId": "19033de4-4651-4725-dad3-ecf56f7fd6ec"
   },
   "outputs": [
    {
     "data": {
      "text/plain": [
       "2"
      ]
     },
     "execution_count": 15,
     "metadata": {
      "tags": []
     },
     "output_type": "execute_result"
    }
   ],
   "source": [
    "arr = [20, 30, 60, 80, 90, 130, 140]\n",
    "\n",
    "binarySearch(arr, 60)"
   ]
  },
  {
   "cell_type": "code",
   "execution_count": null,
   "metadata": {
    "colab": {
     "base_uri": "https://localhost:8080/",
     "height": 35
    },
    "id": "mXNice_9-TWe",
    "outputId": "2fc997a0-170f-49d4-f6d6-46ac403703ea"
   },
   "outputs": [
    {
     "data": {
      "text/plain": [
       "3"
      ]
     },
     "execution_count": 18,
     "metadata": {
      "tags": []
     },
     "output_type": "execute_result"
    }
   ],
   "source": [
    "arr = [20, 20, 30, 30, 30, 60, 70]\n",
    "\n",
    "# Binary search will return the index of the value closest to the middle\n",
    "binarySearch(arr, 30)"
   ]
  },
  {
   "cell_type": "code",
   "execution_count": null,
   "metadata": {
    "id": "tkSGpzMa-yrX"
   },
   "outputs": [],
   "source": [
    "def recursiveBinarySearch(arr, val, first, last):\n",
    "  if last < first:\n",
    "    return -1\n",
    "  else:\n",
    "    mid = (first + last) // 2\n",
    "\n",
    "    if arr[mid] == val:\n",
    "      return mid\n",
    "\n",
    "    elif val < arr[mid]:\n",
    "      return binarySearch(arr, val, first, mid-1)\n",
    "    \n",
    "    elif val > arr[mid]:\n",
    "      return binarySearch(arr, val, mid+1, last)"
   ]
  },
  {
   "cell_type": "code",
   "execution_count": null,
   "metadata": {
    "colab": {
     "base_uri": "https://localhost:8080/",
     "height": 35
    },
    "id": "FXhFW4lX_-9c",
    "outputId": "17b624f5-dc72-47c9-f7a8-ad11228edd8f"
   },
   "outputs": [
    {
     "data": {
      "text/plain": [
       "5"
      ]
     },
     "execution_count": 20,
     "metadata": {
      "tags": []
     },
     "output_type": "execute_result"
    }
   ],
   "source": [
    "arr = [1, 4, 13, 14, 20, 27, 30]\n",
    "\n",
    "recursiveBinarySearch(arr, 27)"
   ]
  },
  {
   "cell_type": "markdown",
   "metadata": {
    "id": "YPKje-bKBAQA"
   },
   "source": [
    "### Jump Search"
   ]
  },
  {
   "cell_type": "markdown",
   "metadata": {
    "id": "fmTJo1wXBCTS"
   },
   "source": [
    "Jump search uses a jump value, which is the square root of the length of the array, and is used to determine thee upper index of the search array. Assume that the array is sorted before performing the search."
   ]
  },
  {
   "cell_type": "code",
   "execution_count": null,
   "metadata": {
    "id": "P33r4LKfAIvP"
   },
   "outputs": [],
   "source": [
    "import math\n",
    "\n",
    "def jumpSearch(arr, val):\n",
    "  length = len(arr)\n",
    "\n",
    "  jump = int(math.sqrt(length))\n",
    "  print('jump =', jump)\n",
    "\n",
    "  left, right = 0, 0\n",
    "\n",
    "  while (left < length) and (arr[left] <= val):\n",
    "    right = min(left + jump, length-1)\n",
    "\n",
    "    print('left =', left, ' ; right =', right)\n",
    "\n",
    "    # trap val between left and right\n",
    "    if val >= arr[left] and val <= arr[right]:\n",
    "      break\n",
    "    \n",
    "    left += jump\n",
    "\n",
    "  if left >= length or arr[left] > val:\n",
    "    return -1\n",
    "\n",
    "  right = min(right, length)\n",
    "  i = left\n",
    "\n",
    "  while i <= right and arr[i] <= val:\n",
    "    print('i =', i)\n",
    "\n",
    "    if arr[i] == val:\n",
    "      return i\n",
    "\n",
    "    i += 1\n",
    "\n",
    "  return -1  \n"
   ]
  },
  {
   "cell_type": "code",
   "execution_count": null,
   "metadata": {
    "colab": {
     "base_uri": "https://localhost:8080/",
     "height": 139
    },
    "id": "rdxRRxSNEwnH",
    "outputId": "20edd2c5-9c9b-4b30-bc61-43d6137e71bd"
   },
   "outputs": [
    {
     "name": "stdout",
     "output_type": "stream",
     "text": [
      "jump = 3\n",
      "left = 0  ; right = 3\n",
      "left = 3  ; right = 6\n",
      "i = 3\n",
      "i = 4\n",
      "i = 5\n"
     ]
    },
    {
     "data": {
      "text/plain": [
       "5"
      ]
     },
     "execution_count": 48,
     "metadata": {
      "tags": []
     },
     "output_type": "execute_result"
    }
   ],
   "source": [
    "arr = [13, 15, 20, 21, 25, 36, 44, 57, 58]\n",
    "\n",
    "jumpSearch(arr, 36)"
   ]
  },
  {
   "cell_type": "markdown",
   "metadata": {
    "id": "SqSUSCbKIxty"
   },
   "source": [
    "### Exponential Search"
   ]
  },
  {
   "cell_type": "markdown",
   "metadata": {
    "id": "OYHyOdS6I1BD"
   },
   "source": [
    "Exponential Search tries to find the index of a value that is greater than the val being searched, then passes that range of values to binary search"
   ]
  },
  {
   "cell_type": "code",
   "execution_count": null,
   "metadata": {
    "id": "9p6WdtytE7Rx"
   },
   "outputs": [],
   "source": [
    "def exponentialSearch(arr, val):\n",
    "  if val == arr[0]:\n",
    "    return 0\n",
    "  \n",
    "  index = 1\n",
    "\n",
    "  while index < len(arr) and val >= arr[index]:\n",
    "    index = index * 2\n",
    "    print('index =', index)\n",
    "\n",
    "  return binarySearch(arr[:min(index, len(arr))], val)"
   ]
  },
  {
   "cell_type": "code",
   "execution_count": null,
   "metadata": {
    "colab": {
     "base_uri": "https://localhost:8080/",
     "height": 104
    },
    "id": "lFmxsd_TKQ97",
    "outputId": "d9b3cc67-0735-44b0-e269-7d4151d74b24"
   },
   "outputs": [
    {
     "name": "stdout",
     "output_type": "stream",
     "text": [
      "index = 2\n",
      "index = 4\n",
      "index = 8\n",
      "index = 16\n"
     ]
    },
    {
     "data": {
      "text/plain": [
       "14"
      ]
     },
     "execution_count": 54,
     "metadata": {
      "tags": []
     },
     "output_type": "execute_result"
    }
   ],
   "source": [
    "arr = [1,2,3,4,5,6,7,8,10,15,16,16,20,22,25,23]\n",
    "\n",
    "exponentialSearch(arr, 25)"
   ]
  },
  {
   "cell_type": "code",
   "execution_count": 26,
   "metadata": {
    "id": "xeA1XEjFKV-D"
   },
   "outputs": [
    {
     "name": "stdout",
     "output_type": "stream",
     "text": [
      "[1, 2, 5, 8, 9]\n",
      "a abccdeee\n",
      "a  bccdeee\n",
      "a  bc deee\n",
      "a  bc de e\n",
      "a  bc de  \n"
     ]
    },
    {
     "data": {
      "text/plain": [
       "'abcde'"
      ]
     },
     "execution_count": 26,
     "metadata": {},
     "output_type": "execute_result"
    }
   ],
   "source": [
    "# remove duplicates in array without using any library\n",
    "my_str = 'aaabccdeee'   # output: abcde\n",
    "ctr = {}\n",
    "to_remove = []\n",
    "\n",
    "for i,c in enumerate(my_str):\n",
    "    if c in ctr:\n",
    "        to_remove.append(i)\n",
    "    else:\n",
    "        ctr[c] = None\n",
    "        \n",
    "print(to_remove) \n",
    "\n",
    "for val in to_remove:\n",
    "    my_str = my_str[:val] + ' '+ my_str[val+1:]\n",
    "    print(my_str)\n",
    "    \n",
    "my_str.replace(' ', '')"
   ]
  },
  {
   "cell_type": "code",
   "execution_count": null,
   "metadata": {},
   "outputs": [],
   "source": []
  }
 ],
 "metadata": {
  "colab": {
   "authorship_tag": "ABX9TyNMM9jvlV9olBrvWB0OHpSs",
   "collapsed_sections": [],
   "include_colab_link": true,
   "name": "Search Algorithms in Python",
   "provenance": []
  },
  "kernelspec": {
   "display_name": "Python 3",
   "language": "python",
   "name": "python3"
  },
  "language_info": {
   "codemirror_mode": {
    "name": "ipython",
    "version": 3
   },
   "file_extension": ".py",
   "mimetype": "text/x-python",
   "name": "python",
   "nbconvert_exporter": "python",
   "pygments_lexer": "ipython3",
   "version": "3.7.4"
  }
 },
 "nbformat": 4,
 "nbformat_minor": 1
}
