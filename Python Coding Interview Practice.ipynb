{
 "cells": [
  {
   "cell_type": "markdown",
   "metadata": {},
   "source": [
    "### 1. For a given sentence, return the average word length. \n",
    "Note: Remember to remove punctuation first."
   ]
  },
  {
   "cell_type": "code",
   "execution_count": 17,
   "metadata": {},
   "outputs": [],
   "source": [
    "sentence = \"I need to work very hard to learn more about algorithms in Python!\""
   ]
  },
  {
   "cell_type": "code",
   "execution_count": 25,
   "metadata": {},
   "outputs": [],
   "source": [
    "import re\n",
    "\n",
    "def average_word_len(sentence):\n",
    "    no_punct = re.sub(r'[^\\w\\s]', '', sentence)\n",
    "    words_no_spaces = no_punct.split()\n",
    "    word_count = len(words_no_spaces)\n",
    "    \n",
    "    words_length = round(sum(len(word) for word in words_no_spaces), 2)\n",
    "    \n",
    "    return words_length / float(word_count)"
   ]
  },
  {
   "cell_type": "code",
   "execution_count": 26,
   "metadata": {},
   "outputs": [
    {
     "name": "stdout",
     "output_type": "stream",
     "text": [
      "4.08\n"
     ]
    }
   ],
   "source": [
    "print('%.2f' % average_word_len(sentence))"
   ]
  },
  {
   "cell_type": "markdown",
   "metadata": {},
   "source": [
    "### 2. Given a string, find the first non-repeating character in it and return its index. \n",
    "If it doesn't exist, return -1. # Note: all the input strings are already lowercase."
   ]
  },
  {
   "cell_type": "code",
   "execution_count": 31,
   "metadata": {},
   "outputs": [],
   "source": [
    "from collections import Counter\n",
    "\n",
    "def get_non_repeating(a_str):\n",
    "    counter = Counter(a_str)\n",
    "    \n",
    "    for i, c in enumerate(a_str):\n",
    "        if counter[c] == 1:\n",
    "            return i\n",
    "        \n",
    "    return -1"
   ]
  },
  {
   "cell_type": "code",
   "execution_count": 32,
   "metadata": {},
   "outputs": [
    {
     "name": "stdout",
     "output_type": "stream",
     "text": [
      "1\n",
      "2\n",
      "1\n"
     ]
    }
   ],
   "source": [
    "print(get_non_repeating('alphabet'))\n",
    "print(get_non_repeating('barbados'))\n",
    "print(get_non_repeating('crunchy'))"
   ]
  },
  {
   "cell_type": "markdown",
   "metadata": {},
   "source": [
    "### 3. Given a non-empty string s, you may delete at most one character. Judge whether you can make it a palindrome.\n",
    "The string will only contain lowercase characters a-z."
   ]
  },
  {
   "cell_type": "code",
   "execution_count": 117,
   "metadata": {},
   "outputs": [],
   "source": [
    "word1 = 'racecar'\n",
    "word2 = 'radkar'\n",
    "word3 = 'palindrome'\n",
    "word4 = 'a aman, a plan, a canal: panama'\n",
    "word5 = 'redrum murder'\n",
    "word6 = 'nurses run'"
   ]
  },
  {
   "cell_type": "code",
   "execution_count": 114,
   "metadata": {},
   "outputs": [],
   "source": [
    "import re\n",
    "\n",
    "def is_palindrome(word):\n",
    "    clean_word = ''.join(re.sub(r'[^\\w\\s]', '', word).split())\n",
    "                         \n",
    "    for i in range(len(clean_word)):\n",
    "        new_str = clean_word[:i] + clean_word[i+1:]\n",
    "        \n",
    "        if new_str == new_str[::-1]:\n",
    "            return True\n",
    "        \n",
    "    return clean_word == clean_word[::-1] "
   ]
  },
  {
   "cell_type": "code",
   "execution_count": 118,
   "metadata": {},
   "outputs": [
    {
     "name": "stdout",
     "output_type": "stream",
     "text": [
      "True\n",
      "True\n",
      "False\n",
      "True\n",
      "True\n",
      "True\n"
     ]
    }
   ],
   "source": [
    "print(is_palindrome(word1))\n",
    "print(is_palindrome(word2))\n",
    "print(is_palindrome(word3))\n",
    "print(is_palindrome(word4))\n",
    "print(is_palindrome(word5))\n",
    "print(is_palindrome(word6))"
   ]
  },
  {
   "cell_type": "markdown",
   "metadata": {},
   "source": [
    "### 4. Given an array of integers, determine whether the array is monotonic or not."
   ]
  },
  {
   "cell_type": "code",
   "execution_count": 50,
   "metadata": {},
   "outputs": [],
   "source": [
    "A = [6, 5, 4, 4] \n",
    "B = [1,1,1,3,3,4,3,2,4,2]\n",
    "C = [1,1,2,3,7]"
   ]
  },
  {
   "cell_type": "code",
   "execution_count": 55,
   "metadata": {},
   "outputs": [],
   "source": [
    "def is_monotonic(arr):\n",
    "    is_decreasing = all(arr[i] >= arr[i+1] for i in range(len(arr)-1))\n",
    "    is_increasing = all(arr[i] <= arr[i+1] for i in range(len(arr)-1))\n",
    "    \n",
    "    return is_decreasing or is_increasing"
   ]
  },
  {
   "cell_type": "code",
   "execution_count": 58,
   "metadata": {},
   "outputs": [
    {
     "name": "stdout",
     "output_type": "stream",
     "text": [
      "True\n",
      "False\n",
      "True\n"
     ]
    }
   ],
   "source": [
    "print(is_monotonic(A))\n",
    "print(is_monotonic(B))\n",
    "print(is_monotonic(C))"
   ]
  },
  {
   "cell_type": "markdown",
   "metadata": {},
   "source": [
    "### 5. Given an array nums, write a function to move all zeroes to the end of it while maintaining the relative order of the non-zero elements."
   ]
  },
  {
   "cell_type": "code",
   "execution_count": 99,
   "metadata": {},
   "outputs": [],
   "source": [
    "array1 = [0,0,0,3,12]\n",
    "array2 = [1,7,0,0,8,0,10,12,0,4]"
   ]
  },
  {
   "cell_type": "code",
   "execution_count": 102,
   "metadata": {},
   "outputs": [],
   "source": [
    "def move_zeros(arr):\n",
    "    arr_copy = list(arr)\n",
    "    \n",
    "    for i,c in enumerate(arr_copy):\n",
    "        if 0 in arr_copy:\n",
    "            # Remove the first occurrence of 0 in the current state of arr_copy\n",
    "            arr_copy.remove(0)\n",
    "            arr_copy.append(0)\n",
    "    \n",
    "    return arr_copy\n"
   ]
  },
  {
   "cell_type": "code",
   "execution_count": 104,
   "metadata": {},
   "outputs": [
    {
     "name": "stdout",
     "output_type": "stream",
     "text": [
      "[3, 12, 0, 0, 0]\n",
      "[1, 7, 8, 10, 12, 4, 0, 0, 0, 0]\n"
     ]
    }
   ],
   "source": [
    "print(move_zeros(array1))\n",
    "print(move_zeros(array2))"
   ]
  },
  {
   "cell_type": "markdown",
   "metadata": {},
   "source": [
    "### 6. Given an array containing None values fill in the None values with most recent non None value in the array "
   ]
  },
  {
   "cell_type": "code",
   "execution_count": 105,
   "metadata": {},
   "outputs": [],
   "source": [
    "array1 = [1,None,2,3,None,None,5,None]"
   ]
  },
  {
   "cell_type": "code",
   "execution_count": 106,
   "metadata": {},
   "outputs": [],
   "source": [
    "def fill_none(arr):\n",
    "    non_none = 0\n",
    "    \n",
    "    for i in range(len(arr)):\n",
    "        if arr[i] is not None:\n",
    "            non_none = arr[i]\n",
    "        else:\n",
    "            arr[i] = non_none\n",
    "            \n",
    "    return arr"
   ]
  },
  {
   "cell_type": "code",
   "execution_count": 107,
   "metadata": {},
   "outputs": [
    {
     "name": "stdout",
     "output_type": "stream",
     "text": [
      "[1, 1, 2, 3, 3, 3, 5, 5]\n"
     ]
    }
   ],
   "source": [
    "print(fill_none(array1))"
   ]
  },
  {
   "cell_type": "markdown",
   "metadata": {},
   "source": [
    "### 7. How will you use Python to read a random line from a list of lines?"
   ]
  },
  {
   "cell_type": "code",
   "execution_count": 119,
   "metadata": {},
   "outputs": [],
   "source": [
    "lines = ['This is a list of lines', 'This is the 2nd element.', 'This is the 3rd element.', 'This is the end of the list.']"
   ]
  },
  {
   "cell_type": "code",
   "execution_count": 121,
   "metadata": {},
   "outputs": [
    {
     "name": "stdout",
     "output_type": "stream",
     "text": [
      "This is a list of lines\n"
     ]
    }
   ],
   "source": [
    "from random import choice\n",
    "\n",
    "print(choice(lines))"
   ]
  },
  {
   "cell_type": "code",
   "execution_count": 125,
   "metadata": {},
   "outputs": [
    {
     "name": "stdout",
     "output_type": "stream",
     "text": [
      "This is the 2nd element.\n"
     ]
    }
   ],
   "source": [
    "from random import randrange\n",
    "\n",
    "i = randrange(len(lines))\n",
    "print(lines[i])"
   ]
  },
  {
   "cell_type": "markdown",
   "metadata": {},
   "source": [
    "### 8. How do you read JSON data?"
   ]
  },
  {
   "cell_type": "code",
   "execution_count": 127,
   "metadata": {},
   "outputs": [
    {
     "name": "stdout",
     "output_type": "stream",
     "text": [
      "name Bob\n",
      "languages ['Python', 'Java']\n"
     ]
    }
   ],
   "source": [
    "import json\n",
    "\n",
    "json_str = '{\"name\": \"Bob\", \"languages\": [\"Python\", \"Java\"]}'\n",
    "\n",
    "my_dict = json.loads(json_str)\n",
    "\n",
    "for key, val in my_dict.items():\n",
    "    print(key, val)"
   ]
  },
  {
   "cell_type": "markdown",
   "metadata": {},
   "source": [
    "### 9.  Write a regular expression that will accept an email id. Use the re module."
   ]
  },
  {
   "cell_type": "code",
   "execution_count": 149,
   "metadata": {},
   "outputs": [
    {
     "name": "stdout",
     "output_type": "stream",
     "text": [
      "shiela@gmail.com\n"
     ]
    }
   ],
   "source": [
    "import re\n",
    "\n",
    "email = 'shiela@gmail.com'\n",
    "\n",
    "validated = re.search(r'[-\\w\\.]+@[\\w-]+\\.[\\w-]{2,4}', email)\n",
    "\n",
    "if validated is not None:\n",
    "    print(validated.group())\n",
    "else:\n",
    "    print('Not an email address')"
   ]
  },
  {
   "cell_type": "markdown",
   "metadata": {},
   "source": [
    "### 10. use itertools"
   ]
  },
  {
   "cell_type": "code",
   "execution_count": 5,
   "metadata": {},
   "outputs": [
    {
     "name": "stdout",
     "output_type": "stream",
     "text": [
      "A ['A', 'A']\n",
      "B ['B']\n",
      "C ['C']\n",
      "D ['D']\n",
      "E ['E']\n",
      "F ['F']\n",
      "G ['G']\n"
     ]
    }
   ],
   "source": [
    "from itertools import groupby\n",
    "\n",
    "str = 'AABCDEFG'\n",
    "\n",
    "for k, g in groupby(str):\n",
    "    print(k,list(g))"
   ]
  },
  {
   "cell_type": "code",
   "execution_count": 8,
   "metadata": {},
   "outputs": [
    {
     "name": "stdout",
     "output_type": "stream",
     "text": [
      "a : [('a', 1), ('a', 2)]\n",
      "b : [('b', 3), ('b', 4)]\n",
      "a : [('a', 5)]\n"
     ]
    }
   ],
   "source": [
    "L = [(\"a\", 1), (\"a\", 2), (\"b\", 3), (\"b\", 4), ('a', 5)] \n",
    "\n",
    "key_func = lambda x: x[0] \n",
    "  \n",
    "for key, group in groupby(L, key_func): \n",
    "    print(key + \" :\", list(group)) "
   ]
  },
  {
   "cell_type": "code",
   "execution_count": 56,
   "metadata": {},
   "outputs": [
    {
     "name": "stdout",
     "output_type": "stream",
     "text": [
      "111234445661122\n",
      "(3, 1) (1, 2) (1, 3) (3, 4) (1, 5) (2, 6) (2, 1) (2, 2)\n"
     ]
    }
   ],
   "source": [
    "from itertools import groupby\n",
    "\n",
    "a_str = input()\n",
    "\n",
    "print(*[(len(list(g)), int(k)) for k, g in groupby(a_str)])"
   ]
  },
  {
   "cell_type": "code",
   "execution_count": 57,
   "metadata": {},
   "outputs": [
    {
     "name": "stdout",
     "output_type": "stream",
     "text": [
      "(3, 1) (1, 2) (1, 3) (3, 4) (1, 5) (2, 6) (2, 1) (2, 2)\n"
     ]
    }
   ],
   "source": [
    "ans = []\n",
    "\n",
    "for k, g in groupby(a_str):\n",
    "    ans.append((len(list(g)), int(k)))\n",
    "    \n",
    "print(*ans)"
   ]
  },
  {
   "cell_type": "markdown",
   "metadata": {},
   "source": [
    "### 11. Use reduce() function"
   ]
  },
  {
   "cell_type": "code",
   "execution_count": 9,
   "metadata": {},
   "outputs": [],
   "source": [
    "from functools import reduce"
   ]
  },
  {
   "cell_type": "code",
   "execution_count": 39,
   "metadata": {},
   "outputs": [
    {
     "name": "stdout",
     "output_type": "stream",
     "text": [
      "5\n"
     ]
    }
   ],
   "source": [
    "arr = [1,2,3,4,5,6,7,8,9,10]\n",
    "\n",
    "ans = reduce(lambda a,b: b-a, arr)\n",
    "print(ans)"
   ]
  },
  {
   "cell_type": "code",
   "execution_count": null,
   "metadata": {},
   "outputs": [],
   "source": [
    "4-2 = 2   2-1 = -1  3"
   ]
  },
  {
   "cell_type": "markdown",
   "metadata": {},
   "source": [
    "### 12. List Comprehensions"
   ]
  },
  {
   "cell_type": "markdown",
   "metadata": {},
   "source": [
    "You are given three integers x,y,z representing the dimensions of a cuboid along with an integer n. Print a list of all possible coordinates given by (i,j,k) on a 3D grid where the sum of i+j+k is not equal to n. Here, . Please use list comprehensions rather than multiple loops, as a learning exercise."
   ]
  },
  {
   "cell_type": "code",
   "execution_count": 59,
   "metadata": {},
   "outputs": [],
   "source": [
    "x,y,z = 1,1,2\n",
    "n = 3"
   ]
  },
  {
   "cell_type": "code",
   "execution_count": 60,
   "metadata": {},
   "outputs": [
    {
     "name": "stdout",
     "output_type": "stream",
     "text": [
      "[[0, 0, 0], [0, 0, 1], [0, 0, 2], [0, 1, 0], [0, 1, 1], [1, 0, 0], [1, 0, 1], [1, 1, 0], [1, 1, 2]]\n"
     ]
    }
   ],
   "source": [
    "print([[i,j,k] for i in range(x+1) for j in range(y+1) for k in range(z+1) if i+j+k != n])"
   ]
  },
  {
   "cell_type": "code",
   "execution_count": null,
   "metadata": {},
   "outputs": [],
   "source": []
  },
  {
   "cell_type": "code",
   "execution_count": 74,
   "metadata": {},
   "outputs": [
    {
     "data": {
      "text/plain": [
       "6"
      ]
     },
     "execution_count": 74,
     "metadata": {},
     "output_type": "execute_result"
    }
   ],
   "source": [
    "arr = [1,4,7,2,4,6]\n",
    "\n",
    "sorted(set(arr), reverse=True)[1]"
   ]
  },
  {
   "cell_type": "code",
   "execution_count": 75,
   "metadata": {},
   "outputs": [
    {
     "data": {
      "text/plain": [
       "5"
      ]
     },
     "execution_count": 75,
     "metadata": {},
     "output_type": "execute_result"
    }
   ],
   "source": [
    "len(set(arr))"
   ]
  },
  {
   "cell_type": "code",
   "execution_count": null,
   "metadata": {},
   "outputs": [],
   "source": []
  },
  {
   "cell_type": "code",
   "execution_count": null,
   "metadata": {},
   "outputs": [],
   "source": []
  }
 ],
 "metadata": {
  "kernelspec": {
   "display_name": "Python 3",
   "language": "python",
   "name": "python3"
  },
  "language_info": {
   "codemirror_mode": {
    "name": "ipython",
    "version": 3
   },
   "file_extension": ".py",
   "mimetype": "text/x-python",
   "name": "python",
   "nbconvert_exporter": "python",
   "pygments_lexer": "ipython3",
   "version": "3.7.4"
  }
 },
 "nbformat": 4,
 "nbformat_minor": 2
}
