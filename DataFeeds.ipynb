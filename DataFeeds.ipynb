{
 "cells": [
  {
   "cell_type": "code",
   "execution_count": 20,
   "metadata": {},
   "outputs": [
    {
     "name": "stdout",
     "output_type": "stream",
     "text": [
      "{'target_date': datetime.datetime(2001, 3, 1, 0, 0), 'station_name': 'WINNIPEG THE FORKS', 'longitude': -97.13, 'latitude': 49.89, 'climate_id': 5023262, 'min_temp': -6.8, 'max_temp': 3.6, 'mean_temp': -1.6, 'total_precip': 0.0}\n",
      "{'target_date': datetime.datetime(2001, 3, 2, 0, 0), 'station_name': 'WINNIPEG THE FORKS', 'longitude': -97.13, 'latitude': 49.89, 'climate_id': 5023262, 'min_temp': -4.3, 'max_temp': 5.9, 'mean_temp': 0.8, 'total_precip': 0.0}\n",
      "{'target_date': datetime.datetime(2001, 3, 3, 0, 0), 'station_name': 'WINNIPEG THE FORKS', 'longitude': -97.13, 'latitude': 49.89, 'climate_id': 5023262, 'min_temp': -9.5, 'max_temp': -1.0, 'mean_temp': -5.3, 'total_precip': 0.0}\n",
      "{'target_date': datetime.datetime(2001, 3, 4, 0, 0), 'station_name': 'WINNIPEG THE FORKS', 'longitude': -97.13, 'latitude': 49.89, 'climate_id': 5023262, 'min_temp': -14.8, 'max_temp': -3.6, 'mean_temp': -9.2, 'total_precip': 0.0}\n",
      "{'target_date': datetime.datetime(2001, 3, 5, 0, 0), 'station_name': 'WINNIPEG THE FORKS', 'longitude': -97.13, 'latitude': 49.89, 'climate_id': 5023262, 'min_temp': -11.7, 'max_temp': -1.4, 'mean_temp': -6.6, 'total_precip': 0.0}\n",
      "{'target_date': datetime.datetime(2001, 3, 6, 0, 0), 'station_name': 'WINNIPEG THE FORKS', 'longitude': -97.13, 'latitude': 49.89, 'climate_id': 5023262, 'min_temp': -10.4, 'max_temp': -0.5, 'mean_temp': -5.5, 'total_precip': 0.0}\n",
      "{'target_date': datetime.datetime(2001, 3, 7, 0, 0), 'station_name': 'WINNIPEG THE FORKS', 'longitude': -97.13, 'latitude': 49.89, 'climate_id': 5023262, 'min_temp': -5.4, 'max_temp': -1.2, 'mean_temp': -3.3, 'total_precip': 0.0}\n",
      "{'target_date': datetime.datetime(2001, 3, 8, 0, 0), 'station_name': 'WINNIPEG THE FORKS', 'longitude': -97.13, 'latitude': 49.89, 'climate_id': 5023262, 'min_temp': -6.4, 'max_temp': -1.6, 'mean_temp': -4.0, 'total_precip': 0.0}\n",
      "{'target_date': datetime.datetime(2001, 3, 9, 0, 0), 'station_name': 'WINNIPEG THE FORKS', 'longitude': -97.13, 'latitude': 49.89, 'climate_id': 5023262, 'min_temp': -11.9, 'max_temp': -0.8, 'mean_temp': -6.4, 'total_precip': 0.0}\n",
      "{'target_date': datetime.datetime(2001, 3, 10, 0, 0), 'station_name': 'WINNIPEG THE FORKS', 'longitude': -97.13, 'latitude': 49.89, 'climate_id': 5023262, 'min_temp': -13.9, 'max_temp': -1.0, 'mean_temp': -7.5, 'total_precip': 0.9}\n",
      "{'target_date': datetime.datetime(2001, 3, 11, 0, 0), 'station_name': 'WINNIPEG THE FORKS', 'longitude': -97.13, 'latitude': 49.89, 'climate_id': 5023262, 'min_temp': -16.0, 'max_temp': -4.5, 'mean_temp': -10.3, 'total_precip': 0.0}\n",
      "{'target_date': datetime.datetime(2001, 3, 12, 0, 0), 'station_name': 'WINNIPEG THE FORKS', 'longitude': -97.13, 'latitude': 49.89, 'climate_id': 5023262, 'min_temp': -7.0, 'max_temp': -0.3, 'mean_temp': -3.7, 'total_precip': 0.7}\n",
      "{'target_date': datetime.datetime(2001, 3, 13, 0, 0), 'station_name': 'WINNIPEG THE FORKS', 'longitude': -97.13, 'latitude': 49.89, 'climate_id': 5023262, 'min_temp': -4.7, 'max_temp': 4.1, 'mean_temp': -0.3, 'total_precip': 2.3}\n",
      "{'target_date': datetime.datetime(2001, 3, 14, 0, 0), 'station_name': 'WINNIPEG THE FORKS', 'longitude': -97.13, 'latitude': 49.89, 'climate_id': 5023262, 'min_temp': -5.8, 'max_temp': 1.0, 'mean_temp': -2.4, 'total_precip': 0.0}\n",
      "{'target_date': datetime.datetime(2001, 3, 15, 0, 0), 'station_name': 'WINNIPEG THE FORKS', 'longitude': -97.13, 'latitude': 49.89, 'climate_id': 5023262, 'min_temp': -10.7, 'max_temp': -0.7, 'mean_temp': -5.7, 'total_precip': 0.0}\n",
      "{'target_date': datetime.datetime(2001, 3, 16, 0, 0), 'station_name': 'WINNIPEG THE FORKS', 'longitude': -97.13, 'latitude': 49.89, 'climate_id': 5023262, 'min_temp': -9.0, 'max_temp': 2.7, 'mean_temp': -3.2, 'total_precip': 0.0}\n",
      "{'target_date': datetime.datetime(2001, 3, 17, 0, 0), 'station_name': 'WINNIPEG THE FORKS', 'longitude': -97.13, 'latitude': 49.89, 'climate_id': 5023262, 'min_temp': -5.7, 'max_temp': 4.5, 'mean_temp': -0.6, 'total_precip': 0.0}\n",
      "{'target_date': datetime.datetime(2001, 3, 18, 0, 0), 'station_name': 'WINNIPEG THE FORKS', 'longitude': -97.13, 'latitude': 49.89, 'climate_id': 5023262, 'min_temp': -1.4, 'max_temp': 3.7, 'mean_temp': 1.2, 'total_precip': 5.9}\n",
      "{'target_date': datetime.datetime(2001, 3, 19, 0, 0), 'station_name': 'WINNIPEG THE FORKS', 'longitude': -97.13, 'latitude': 49.89, 'climate_id': 5023262, 'min_temp': -1.4, 'max_temp': 0.9, 'mean_temp': -0.3, 'total_precip': 0.0}\n",
      "{'target_date': datetime.datetime(2001, 3, 20, 0, 0), 'station_name': 'WINNIPEG THE FORKS', 'longitude': -97.13, 'latitude': 49.89, 'climate_id': 5023262, 'min_temp': 0.1, 'max_temp': 6.1, 'mean_temp': 3.1, 'total_precip': 0.6}\n",
      "{'target_date': datetime.datetime(2001, 3, 21, 0, 0), 'station_name': 'WINNIPEG THE FORKS', 'longitude': -97.13, 'latitude': 49.89, 'climate_id': 5023262, 'min_temp': -13.1, 'max_temp': 0.6, 'mean_temp': -6.3, 'total_precip': 0.0}\n",
      "{'target_date': datetime.datetime(2001, 3, 22, 0, 0), 'station_name': 'WINNIPEG THE FORKS', 'longitude': -97.13, 'latitude': 49.89, 'climate_id': 5023262, 'min_temp': -16.6, 'max_temp': -8.5, 'mean_temp': -12.6, 'total_precip': 0.0}\n",
      "{'target_date': datetime.datetime(2001, 3, 23, 0, 0), 'station_name': 'WINNIPEG THE FORKS', 'longitude': -97.13, 'latitude': 49.89, 'climate_id': 5023262, 'min_temp': -15.8, 'max_temp': -9.4, 'mean_temp': -12.6, 'total_precip': 0.0}\n",
      "{'target_date': datetime.datetime(2001, 3, 24, 0, 0), 'station_name': 'WINNIPEG THE FORKS', 'longitude': -97.13, 'latitude': 49.89, 'climate_id': 5023262, 'min_temp': -16.1, 'max_temp': -11.0, 'mean_temp': -13.6, 'total_precip': 0.7}\n",
      "{'target_date': datetime.datetime(2001, 3, 25, 0, 0), 'station_name': 'WINNIPEG THE FORKS', 'longitude': -97.13, 'latitude': 49.89, 'climate_id': 5023262, 'min_temp': -17.4, 'max_temp': -8.2, 'mean_temp': -12.8, 'total_precip': 0.0}\n",
      "{'target_date': datetime.datetime(2001, 3, 26, 0, 0), 'station_name': 'WINNIPEG THE FORKS', 'longitude': -97.13, 'latitude': 49.89, 'climate_id': 5023262, 'min_temp': -15.4, 'max_temp': -5.3, 'mean_temp': -10.4, 'total_precip': 0.0}\n",
      "{'target_date': datetime.datetime(2001, 3, 27, 0, 0), 'station_name': 'WINNIPEG THE FORKS', 'longitude': -97.13, 'latitude': 49.89, 'climate_id': 5023262, 'min_temp': -10.7, 'max_temp': 2.1, 'mean_temp': -4.3, 'total_precip': 0.0}\n",
      "{'target_date': datetime.datetime(2001, 3, 28, 0, 0), 'station_name': 'WINNIPEG THE FORKS', 'longitude': -97.13, 'latitude': 49.89, 'climate_id': 5023262, 'min_temp': -2.0, 'max_temp': 4.8, 'mean_temp': 1.4, 'total_precip': 0.0}\n",
      "{'target_date': datetime.datetime(2001, 3, 29, 0, 0), 'station_name': 'WINNIPEG THE FORKS', 'longitude': -97.13, 'latitude': 49.89, 'climate_id': 5023262, 'min_temp': 0.8, 'max_temp': 3.3, 'mean_temp': 2.1, 'total_precip': 1.2}\n",
      "{'target_date': datetime.datetime(2001, 3, 30, 0, 0), 'station_name': 'WINNIPEG THE FORKS', 'longitude': -97.13, 'latitude': 49.89, 'climate_id': 5023262, 'min_temp': 0.2, 'max_temp': 4.4, 'mean_temp': 2.3, 'total_precip': 6.7}\n",
      "{'target_date': datetime.datetime(2001, 3, 31, 0, 0), 'station_name': 'WINNIPEG THE FORKS', 'longitude': -97.13, 'latitude': 49.89, 'climate_id': 5023262, 'min_temp': -2.4, 'max_temp': 0.5, 'mean_temp': -1.0, 'total_precip': 16.1}\n"
     ]
    }
   ],
   "source": [
    "from typing import (Iterator, Dict)\n",
    "from datetime import datetime\n",
    "from requests.exceptions import (HTTPError, ConnectionError)\n",
    "import requests\n",
    "import csv\n",
    "\n",
    "\n",
    "def fetch_climate_data(month: datetime) -> str:\n",
    "    \"\"\"\n",
    "    Fetches daily climate data provided by the WINNIPEG THE FORKS weather station for specified month.\n",
    "    The province/territory code of WINNIPEG THE FORKS is MB, and its climate code is 5023262, as documented in:\n",
    "    https://drive.google.com/file/d/1egfzGgzUb0RFu_EE5AYFZtsyXPfZ11y2/view?usp=sharing\n",
    "    \n",
    "    Parameters:\n",
    "        month (datetime): The year and month at which daily climate data is being requested\n",
    "        \n",
    "    Returns:\n",
    "        str: the string data of the csv file that was requested\n",
    "    \"\"\"\n",
    "    \n",
    "    if month is None:\n",
    "        raise Exception('Invalid month. Argument must not be None.')\n",
    "    \n",
    "    _URL = 'https://dd.weather.gc.ca/climate/observations/daily/csv/'\n",
    "    PROV_CODE = 'MB'\n",
    "    CLIMATE_CODE = '5023262'\n",
    "    DAILY_CONST = 'P1D'\n",
    "    \n",
    "    filename = '_'.join(['climate_daily', PROV_CODE, CLIMATE_CODE, month.strftime('%Y-%m'), DAILY_CONST]) + '.csv'\n",
    "\n",
    "    complete_url = _URL + PROV_CODE + '/' + filename\n",
    "    \n",
    "    try:\n",
    "        response = requests.get(complete_url)\n",
    "        \n",
    "        # Raise HTTPError if response.status_code < 400\n",
    "        response.raise_for_status()\n",
    "        \n",
    "    except HTTPError as req_err:\n",
    "        # This will show the error code and the filename that was not found\n",
    "        raise req_err\n",
    "    except ConnectionError:\n",
    "        raise Exception('Failed to connect to the data source.')\n",
    "    except Exception as exc:\n",
    "        raise exc\n",
    "    \n",
    "    return response.text\n",
    "\n",
    "\n",
    "def parse_climate_data(climate_data: str) -> Iterator[Dict]:\n",
    "    \"\"\"\n",
    "    Reads the csv string data line by line and produces a list of dictionaries that contain only the relevant data.\n",
    "    \n",
    "    Parameters:\n",
    "        climate_data (str): the string contents of a csv file\n",
    "        \n",
    "    Returns:\n",
    "        Iterator[Dict]: a list iterator of dictionaries containing only the relevant data as keys.\n",
    "        Use next(iterator) or a for-loop to process this data.\n",
    "    \"\"\"\n",
    "    \n",
    "    reader = csv.DictReader(climate_data.strip().split('\\n'))\n",
    "    dataset = []\n",
    "    \n",
    "    station_name = None\n",
    "    longitude = None\n",
    "    latitude = None\n",
    "    climate_id = None\n",
    "    \n",
    "    for i, line in enumerate(reader):\n",
    "        data = dict()\n",
    "        \n",
    "        if i == 0:\n",
    "            # These four items do not change in the data file, so parse only once\n",
    "            station_name = line['Station Name'] if line['Station Name'] != '' else None\n",
    "            longitude = float(line['Longitude (x)']) if line['Longitude (x)'] != '' else None\n",
    "            latitude = float(line['Latitude (y)']) if line['Latitude (y)'] != '' else None\n",
    "            climate_id = int(line['Climate ID']) if line['Climate ID'] != '' else None\n",
    "        \n",
    "        data['target_date'] = datetime.strptime(line['Date/Time'], '%Y-%m-%d') if line['Date/Time'] != '' else None\n",
    "        data['station_name'] = station_name\n",
    "        data['longitude'] = longitude\n",
    "        data['latitude'] = latitude\n",
    "        data['climate_id'] = climate_id\n",
    "        data['min_temp'] = float(line['Min Temp (°C)']) if line['Min Temp (°C)'] != '' else None\n",
    "        data['max_temp'] = float(line['Max Temp (°C)']) if line['Max Temp (°C)'] != '' else None\n",
    "        data['mean_temp'] = float(line['Mean Temp (°C)']) if line['Mean Temp (°C)'] != '' else None\n",
    "        data['total_precip'] = float(line['Total Precip (mm)']) if line['Total Precip (mm)'] != '' else None\n",
    "\n",
    "        dataset.append(data)\n",
    "            \n",
    "    iterator = iter(dataset)\n",
    "    \n",
    "    return iterator\n",
    "\n",
    "\n",
    "# Uncomment the code below to test the functions\n",
    "\n",
    "# Test Case 1: month param is valid and exists in data source\n",
    "month = datetime(2001, 3, 1)\n",
    "responseText = fetch_climate_data(month)\n",
    "iterator = parse_climate_data(responseText)\n",
    "# print(next(iterator))\n",
    "# print(next(iterator))\n",
    "# print(next(iterator))\n",
    "for it in iterator:\n",
    "    print(it)"
   ]
  },
  {
   "cell_type": "code",
   "execution_count": null,
   "metadata": {},
   "outputs": [],
   "source": [
    "# Test Case 2: month param is valid and does not exist in data source\n",
    "month = datetime(1990, 4, 13)\n",
    "responseText = fetch_climate_data(month)\n",
    "iterator = parse_climate_data(responseText)"
   ]
  },
  {
   "cell_type": "code",
   "execution_count": 52,
   "metadata": {},
   "outputs": [
    {
     "ename": "Exception",
     "evalue": "Invalid month. Argument must not be None.",
     "output_type": "error",
     "traceback": [
      "\u001b[1;31m---------------------------------------------------------------------------\u001b[0m",
      "\u001b[1;31mException\u001b[0m                                 Traceback (most recent call last)",
      "\u001b[1;32m<ipython-input-52-c3682556412d>\u001b[0m in \u001b[0;36m<module>\u001b[1;34m\u001b[0m\n\u001b[0;32m      1\u001b[0m \u001b[1;31m# Test Case 3: month is None\u001b[0m\u001b[1;33m\u001b[0m\u001b[1;33m\u001b[0m\u001b[1;33m\u001b[0m\u001b[0m\n\u001b[1;32m----> 2\u001b[1;33m \u001b[0mresponseText\u001b[0m \u001b[1;33m=\u001b[0m \u001b[0mfetch_climate_data\u001b[0m\u001b[1;33m(\u001b[0m\u001b[1;32mNone\u001b[0m\u001b[1;33m)\u001b[0m\u001b[1;33m\u001b[0m\u001b[1;33m\u001b[0m\u001b[0m\n\u001b[0m\u001b[0;32m      3\u001b[0m \u001b[0miterator\u001b[0m \u001b[1;33m=\u001b[0m \u001b[0mparse_climate_data\u001b[0m\u001b[1;33m(\u001b[0m\u001b[0mresponseText\u001b[0m\u001b[1;33m)\u001b[0m\u001b[1;33m\u001b[0m\u001b[1;33m\u001b[0m\u001b[0m\n",
      "\u001b[1;32m<ipython-input-50-2af6c5fa2cf5>\u001b[0m in \u001b[0;36mfetch_climate_data\u001b[1;34m(month)\u001b[0m\n\u001b[0;32m     20\u001b[0m \u001b[1;33m\u001b[0m\u001b[0m\n\u001b[0;32m     21\u001b[0m     \u001b[1;32mif\u001b[0m \u001b[0mmonth\u001b[0m \u001b[1;32mis\u001b[0m \u001b[1;32mNone\u001b[0m\u001b[1;33m:\u001b[0m\u001b[1;33m\u001b[0m\u001b[1;33m\u001b[0m\u001b[0m\n\u001b[1;32m---> 22\u001b[1;33m         \u001b[1;32mraise\u001b[0m \u001b[0mException\u001b[0m\u001b[1;33m(\u001b[0m\u001b[1;34m'Invalid month. Argument must not be None.'\u001b[0m\u001b[1;33m)\u001b[0m\u001b[1;33m\u001b[0m\u001b[1;33m\u001b[0m\u001b[0m\n\u001b[0m\u001b[0;32m     23\u001b[0m \u001b[1;33m\u001b[0m\u001b[0m\n\u001b[0;32m     24\u001b[0m     \u001b[0m_URL\u001b[0m \u001b[1;33m=\u001b[0m \u001b[1;34m'https://dd.weather.gc.ca/climate/observations/daily/csv/'\u001b[0m\u001b[1;33m\u001b[0m\u001b[1;33m\u001b[0m\u001b[0m\n",
      "\u001b[1;31mException\u001b[0m: Invalid month. Argument must not be None."
     ]
    }
   ],
   "source": [
    "# Test Case 3: month is None\n",
    "responseText = fetch_climate_data(None)\n",
    "iterator = parse_climate_data(responseText)"
   ]
  },
  {
   "cell_type": "code",
   "execution_count": null,
   "metadata": {},
   "outputs": [],
   "source": []
  },
  {
   "cell_type": "code",
   "execution_count": 58,
   "metadata": {},
   "outputs": [],
   "source": [
    "import pandas as pd\n",
    "\n",
    "def parse_climate_data2 ( climate_data : str ):\n",
    "    data = pd.read_csv(climate_data.strip().split('\\n'), sep=',')\n",
    "    \n",
    "    return data"
   ]
  },
  {
   "cell_type": "code",
   "execution_count": null,
   "metadata": {},
   "outputs": [],
   "source": []
  },
  {
   "cell_type": "code",
   "execution_count": 59,
   "metadata": {},
   "outputs": [],
   "source": [
    "month = datetime(2019, 6, 1)\n",
    "\n",
    "responseText = fetch_climate_data(month)\n",
    "iterator = parse_climate_data(responseText)"
   ]
  },
  {
   "cell_type": "code",
   "execution_count": 60,
   "metadata": {},
   "outputs": [
    {
     "data": {
      "text/plain": [
       "{'target_date': None,\n",
       " 'station_name': None,\n",
       " 'longitude': None,\n",
       " 'latitude': None,\n",
       " 'climate_id': None,\n",
       " 'min_temp': None,\n",
       " 'max_temp': None,\n",
       " 'mean_temp': None,\n",
       " 'total_precip': None}"
      ]
     },
     "execution_count": 60,
     "metadata": {},
     "output_type": "execute_result"
    }
   ],
   "source": [
    "next(iterator)"
   ]
  },
  {
   "cell_type": "code",
   "execution_count": 61,
   "metadata": {},
   "outputs": [
    {
     "data": {
      "text/plain": [
       "{'target_date': None,\n",
       " 'station_name': None,\n",
       " 'longitude': None,\n",
       " 'latitude': None,\n",
       " 'climate_id': None,\n",
       " 'min_temp': None,\n",
       " 'max_temp': None,\n",
       " 'mean_temp': None,\n",
       " 'total_precip': None}"
      ]
     },
     "execution_count": 61,
     "metadata": {},
     "output_type": "execute_result"
    }
   ],
   "source": [
    "next(iterator)"
   ]
  },
  {
   "cell_type": "code",
   "execution_count": null,
   "metadata": {},
   "outputs": [],
   "source": []
  }
 ],
 "metadata": {
  "kernelspec": {
   "display_name": "Python 3",
   "language": "python",
   "name": "python3"
  },
  "language_info": {
   "codemirror_mode": {
    "name": "ipython",
    "version": 3
   },
   "file_extension": ".py",
   "mimetype": "text/x-python",
   "name": "python",
   "nbconvert_exporter": "python",
   "pygments_lexer": "ipython3",
   "version": "3.7.4"
  }
 },
 "nbformat": 4,
 "nbformat_minor": 2
}
