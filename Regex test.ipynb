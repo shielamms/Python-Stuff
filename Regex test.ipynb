{
 "cells": [
  {
   "cell_type": "code",
   "execution_count": 1,
   "metadata": {},
   "outputs": [],
   "source": [
    "import re"
   ]
  },
  {
   "cell_type": "code",
   "execution_count": 4,
   "metadata": {},
   "outputs": [],
   "source": [
    "def remove_instance_id(title):\n",
    "    return re.sub('i\\-[^\\s]+\\s', '', title)"
   ]
  },
  {
   "cell_type": "code",
   "execution_count": 27,
   "metadata": {},
   "outputs": [],
   "source": [
    "def get_instance_id(title):\n",
    "    return re.search('i\\-[^\\s]+', title)"
   ]
  },
  {
   "cell_type": "code",
   "execution_count": 23,
   "metadata": {},
   "outputs": [
    {
     "data": {
      "text/plain": [
       "['Instance is vulnerable to CVE-2019-20388',\n",
       " 'Instance is vulnerable to CVE-2019-20388',\n",
       " 'Instance is vulnerable to CVE-2019-20388',\n",
       " 'Instance is vulnerable to CVE-2019-17546',\n",
       " 'Instance is vulnerable to CVE-2019-17546']"
      ]
     },
     "execution_count": 23,
     "metadata": {},
     "output_type": "execute_result"
    }
   ],
   "source": [
    "strs = [\n",
    "    'Instance i-0c8dc35fee332a9c1 is vulnerable to CVE-2019-20388',\n",
    "    'Instance i-0ac3a959c08a8ea6a is vulnerable to CVE-2019-20388',\n",
    "    'Instance i-01dd7679aec513da5 is vulnerable to CVE-2019-20388',\n",
    "    'Instance i-0007a942207995d1e is vulnerable to CVE-2019-17546',\n",
    "    'Instance i-0ac3a959c08a8ea6a is vulnerable to CVE-2019-17546'\n",
    "]\n",
    "\n",
    "[remove_instance_id(s) for s in strs]"
   ]
  },
  {
   "cell_type": "code",
   "execution_count": 29,
   "metadata": {},
   "outputs": [
    {
     "data": {
      "text/plain": [
       "['i-0c8dc35fee332a9c1',\n",
       " 'i-0ac3a959c08a8ea6a',\n",
       " 'i-01dd7679aec513da5',\n",
       " 'i-0007a942207995d1e',\n",
       " 'i-0ac3a959c08a8ea6a']"
      ]
     },
     "execution_count": 29,
     "metadata": {},
     "output_type": "execute_result"
    }
   ],
   "source": [
    "[get_instance_id(s).group(0) for s in strs]"
   ]
  },
  {
   "cell_type": "code",
   "execution_count": 40,
   "metadata": {},
   "outputs": [],
   "source": [
    "mydict = {'key1': 'val1', 'key2': 'val2'}"
   ]
  },
  {
   "cell_type": "code",
   "execution_count": 46,
   "metadata": {},
   "outputs": [],
   "source": [
    "if 'key5' not in mydict:\n",
    "    mydict['key5'] = {\n",
    "        'id': ['id1'],\n",
    "        'name': ['name1']\n",
    "    }\n",
    "else:\n",
    "    print('there')"
   ]
  },
  {
   "cell_type": "code",
   "execution_count": 47,
   "metadata": {},
   "outputs": [
    {
     "data": {
      "text/plain": [
       "{'key1': 'val1',\n",
       " 'key2': 'val2',\n",
       " 'key4': 'id1',\n",
       " 'key5': {'id': ['id1'], 'name': ['name1']}}"
      ]
     },
     "execution_count": 47,
     "metadata": {},
     "output_type": "execute_result"
    }
   ],
   "source": [
    "mydict"
   ]
  },
  {
   "cell_type": "code",
   "execution_count": 37,
   "metadata": {},
   "outputs": [
    {
     "data": {
      "text/plain": [
       "3"
      ]
     },
     "execution_count": 37,
     "metadata": {},
     "output_type": "execute_result"
    }
   ],
   "source": [
    "len(mydict.keys())"
   ]
  },
  {
   "cell_type": "code",
   "execution_count": 49,
   "metadata": {},
   "outputs": [],
   "source": [
    "mydict['key5']['id'].append('id2')"
   ]
  },
  {
   "cell_type": "code",
   "execution_count": 50,
   "metadata": {},
   "outputs": [
    {
     "data": {
      "text/plain": [
       "{'key1': 'val1',\n",
       " 'key2': 'val2',\n",
       " 'key4': 'id1',\n",
       " 'key5': {'id': ['id1', 'id2'], 'name': ['name1']}}"
      ]
     },
     "execution_count": 50,
     "metadata": {},
     "output_type": "execute_result"
    }
   ],
   "source": [
    "mydict"
   ]
  },
  {
   "cell_type": "code",
   "execution_count": 51,
   "metadata": {},
   "outputs": [],
   "source": [
    "import boto3\n",
    "import json\n",
    "import re\n",
    "import datetime\n",
    "import os\n",
    "\n",
    "clientInspector = boto3.client('inspector')\n",
    "clientS3 = boto3.client('s3')\n",
    "sns = boto3.client('sns')\n",
    "\n",
    "def lambda_handler(event, context):\n",
    "    records = event[\"Records\"]\n",
    "    for v in records:\n",
    "        message = (v[\"Sns\"][\"Message\"])\n",
    "        create_dict = json.loads(message)\n",
    "        run_arn = create_dict.get('run')\n",
    "        \n",
    "    important_findings, ignore_count = obtain_findings(run_arn=run_arn)\n",
    "    \n",
    "    # Send to S3\n",
    "    send_findings_to_s3(run_arn, important_findings)\n",
    "\n",
    "    # Notify Pagerduty through SNS email\n",
    "    email_report(run_arn, len(important_findings.keys()), ignore_count)\n",
    "    \n",
    "\n",
    "def obtain_findings(run_arn):\n",
    "    # Get the unique findings of the Inspector run and consolidate the affected EC2 instance IDs and AMIs\n",
    "    try:\n",
    "        paginator = clientInspector.get_paginator('list_findings')\n",
    "        response_iterator = paginator.paginate(assessmentRunArns=[run_arn])\n",
    "        response_describe_finding = None\n",
    "        ignore_attribute = {\n",
    "            'key': 'action',\n",
    "            'value': 'ignore'\n",
    "        }\n",
    "        important_findings = {}\n",
    "        ignore_count = 0\n",
    "        \n",
    "        for response in response_iterator:\n",
    "            for k,v in response.items():\n",
    "                if k == \"findingArns\":\n",
    "                    if v == []:\n",
    "                        continue\n",
    "                    else:\n",
    "                        list_find = (v)\n",
    "                        for idx, arn in enumerate(list_find):\n",
    "                            response_describe_finding = clientInspector.describe_findings(findingArns=[arn],locale='EN_US')\n",
    "                            finding_title = ''\n",
    "                            \n",
    "                            if len(response_describe_finding['findings']) > 0:\n",
    "                                finding_title = response_describe_finding['findings'][0]['title']\n",
    "                            \n",
    "                            title_no_instance = remove_instance_id(finding_title)\n",
    "                            instance_id = response_describe_finding['findings'][0]['assetAttributes']['agentId']\n",
    "                            ami_id = response_describe_finding['findings'][0]['assetAttributes']['amiId']\n",
    "                            \n",
    "                            # important_findings stores only the unique findings, and each finding contains a list of affected EC2 instances\n",
    "                            if title_no_instance not in important_findings:\n",
    "                                important_findings[title_no_instance] = {\n",
    "                                    'severity': response_describe_finding['findings'][0]['severity'],\n",
    "                                    'instances': [instance_id],\n",
    "                                    'ami': [ami_id]\n",
    "                                }\n",
    "                            else:\n",
    "                                # Add instance id and ami id to the list of instances affected by the finding\n",
    "                                important_findings[title_no_instance]['instances'].append(instance_id)\n",
    "                                \n",
    "                                if ami_id not in important_findings[title_no_instance]['ami']:\n",
    "                                    important_findings[title_no_instance]['ami'].append(ami_id)\n",
    "                                \n",
    "                                # Put an ignore tag on similar findings on other EC2 instances\n",
    "                                clientInspector.add_attributes_to_findings(findingArns=[arn], attributes=[ignore_attribute])\n",
    "                                ignore_count += 1\n",
    "                                \n",
    "                                print('Skipped finding arn: ' + arn)\n",
    "                                \n",
    "                                continue\n",
    "                \n",
    "        return important_findings, ignore_count\n",
    "                \n",
    "    except Exception as error:\n",
    "        print(error)\n",
    "    \n",
    "    \n",
    "def remove_instance_id(title):\n",
    "    return re.sub('i\\-[^\\s]+\\s', '', title)\n",
    "\n",
    "def send_findings_to_s3(run_arn, important_findings):\n",
    "    print('Sending important findings to S3')\n",
    "\n",
    "    try:\n",
    "        filename = 'findings_' + str(datetime.datetime.now()) + '.json'\n",
    "        json_upload = bytes(json.dumps(\n",
    "                        {'run_arn': run_arn,\n",
    "                        'findings': important_findings},\n",
    "                    indent=4).encode('UTF-8'))\n",
    "            \n",
    "        clientS3.put_object(Bucket=os.environ['BUCKET'], Key=filename, Body=json_upload)\n",
    "        print('Upload to S3 complete')\n",
    "\n",
    "    except Exception as error:\n",
    "        print('Error uploading findings to S3')\n",
    "        print(error)\n",
    "\n",
    "def email_report(run_arn, finding_count, ignore_count):\n",
    "    subject = \"AWS Inspector Run Findings Report - \" + str(datetime.datetime.now())\n",
    "    messageBody = \"Inspector has finished assessment with 0 significant findings.\\n\"\n",
    "    \n",
    "    if finding_count > 0:\n",
    "        messageBody = \"Inspector has finished assessment with {0} significant findings and {1} ignored findings. Go to Inspector console or S3 for details.\\n\\n\".format(str(finding_count), ignore_count)\n",
    "\n",
    "    print(\"Sending SNS notification\")\n",
    "    \n",
    "    try:\n",
    "        response = sns.publish(\n",
    "            TopicArn = os.environ['SNS_TOPIC_ARN'],\n",
    "            Message = messageBody,\n",
    "            Subject = subject\n",
    "            )\n",
    "\n",
    "        print(\"SNS Notification sent\", response)\n",
    "\n",
    "    except Exception as error:\n",
    "        print('Failed to deliver message to SNS')\n",
    "        print(error)\n",
    "        \n",
    "    \n"
   ]
  },
  {
   "cell_type": "code",
   "execution_count": null,
   "metadata": {},
   "outputs": [],
   "source": []
  }
 ],
 "metadata": {
  "kernelspec": {
   "display_name": "Python 3",
   "language": "python",
   "name": "python3"
  },
  "language_info": {
   "codemirror_mode": {
    "name": "ipython",
    "version": 3
   },
   "file_extension": ".py",
   "mimetype": "text/x-python",
   "name": "python",
   "nbconvert_exporter": "python",
   "pygments_lexer": "ipython3",
   "version": "3.7.4"
  }
 },
 "nbformat": 4,
 "nbformat_minor": 2
}
