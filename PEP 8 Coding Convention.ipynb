{
 "cells": [
  {
   "cell_type": "markdown",
   "metadata": {},
   "source": [
    "## PEP 8 Coding Convention"
   ]
  },
  {
   "cell_type": "markdown",
   "metadata": {},
   "source": [
    "### Indentation"
   ]
  },
  {
   "cell_type": "markdown",
   "metadata": {},
   "source": [
    "- Use 4 spaces per indentation level\n",
    "- Continuation lines should be aligned to the opening delimiter (parenthesis, brace, or bracket), or use a hanging indent\n",
    "- In a hanging indent, there should be no argument on the first line, and further indentation is required to distinuish contination lines from the rest\n"
   ]
  },
  {
   "cell_type": "code",
   "execution_count": null,
   "metadata": {},
   "outputs": [],
   "source": [
    "# Aligned to opening parenthesis:\n",
    "def function_name_1(param1,\n",
    "                    param2,\n",
    "                    param3):\n",
    "    print(param1)\n",
    "\n",
    "# Hanging indents should have no argument on the first line, and further indentation is required\n",
    "def function_name_2(\n",
    "        param1,\n",
    "        param2,\n",
    "        param3):\n",
    "    print(param1)"
   ]
  },
  {
   "cell_type": "markdown",
   "metadata": {},
   "source": [
    "- If an if-condition is in multiple lines, the succeeding lines from the first must be aligned to the opening delimiter or be further indented"
   ]
  },
  {
   "cell_type": "code",
   "execution_count": null,
   "metadata": {},
   "outputs": [],
   "source": [
    "# Succeeding lines must align to the opening delimiter\n",
    "if (condition1 and\n",
    "    condition 2):\n",
    "    do_something()\n",
    "    \n",
    "# Further indent the succeeding lines\n",
    "if (condition1 and\n",
    "       condition2):\n",
    "    do_something()"
   ]
  },
  {
   "cell_type": "markdown",
   "metadata": {},
   "source": [
    "- The closing delimiter can be aligned either to the first character of the last line of a list, or the first character of the multi-line construct"
   ]
  },
  {
   "cell_type": "code",
   "execution_count": null,
   "metadata": {},
   "outputs": [],
   "source": [
    "# Align the closing delimiter to the first character of the last line of a list\n",
    "my_list = [\n",
    "    1, 2, 3,\n",
    "    4, 5, 6\n",
    "    ]\n",
    "\n",
    "# Align the closing delimiter to the first character of the multi-line construct\n",
    "my_list = [\n",
    "    1, 2, 3,\n",
    "    4, 5, 6\n",
    "]"
   ]
  },
  {
   "cell_type": "markdown",
   "metadata": {},
   "source": [
    "### Maximum Line Length and Line Wrapping"
   ]
  },
  {
   "cell_type": "markdown",
   "metadata": {},
   "source": [
    "- The max length of a line is 79 characters\n",
    "- Long lines can be wrapped in parentheses, and/or using backslash for line continuation"
   ]
  },
  {
   "cell_type": "code",
   "execution_count": null,
   "metadata": {},
   "outputs": [],
   "source": [
    "# Example 1\n",
    "with open('/long/path/to/some/file') as file_1, \\\n",
    "     open('/long/path/to/another/file' as file_2):\n",
    "    file_2.write(file_1.read())\n",
    "\n",
    "# Example 2    \n",
    "long_line = \"This is a long string that is more than 72 characters.\" \\\n",
    "            \"Use a backslash for continuation.\""
   ]
  },
  {
   "cell_type": "code",
   "execution_count": null,
   "metadata": {},
   "outputs": [],
   "source": []
  }
 ],
 "metadata": {
  "kernelspec": {
   "display_name": "Python 3",
   "language": "python",
   "name": "python3"
  },
  "language_info": {
   "codemirror_mode": {
    "name": "ipython",
    "version": 3
   },
   "file_extension": ".py",
   "mimetype": "text/x-python",
   "name": "python",
   "nbconvert_exporter": "python",
   "pygments_lexer": "ipython3",
   "version": "3.7.4"
  }
 },
 "nbformat": 4,
 "nbformat_minor": 2
}
